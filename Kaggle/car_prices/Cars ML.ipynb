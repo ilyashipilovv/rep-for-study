{
 "cells": [
  {
   "cell_type": "code",
   "execution_count": 49,
   "id": "968ce42c-5e10-4f29-845a-c0d4579c19f1",
   "metadata": {},
   "outputs": [],
   "source": [
    "import pandas as pd\n",
    "import numpy as np\n",
    "from sklearn.model_selection import train_test_split\n",
    "from sklearn.preprocessing import LabelEncoder, StandardScaler"
   ]
  },
  {
   "cell_type": "code",
   "execution_count": 51,
   "id": "430de250-2932-41ee-a833-3d39cc57779c",
   "metadata": {},
   "outputs": [],
   "source": [
    "from sklearn.ensemble import RandomForestRegressor\n",
    "from sklearn.metrics import mean_squared_error, r2_score"
   ]
  },
  {
   "cell_type": "code",
   "execution_count": 53,
   "id": "bd7bdec2-5c5c-4612-811c-54754e6414e9",
   "metadata": {},
   "outputs": [],
   "source": [
    "cars_data = pd.read_csv('Car_price_ds.csv', sep=';')"
   ]
  },
  {
   "cell_type": "code",
   "execution_count": 55,
   "id": "e7f44629-3f71-4735-a505-0a80d88f192c",
   "metadata": {},
   "outputs": [
    {
     "name": "stdout",
     "output_type": "stream",
     "text": [
      "<class 'pandas.core.frame.DataFrame'>\n",
      "RangeIndex: 10000 entries, 0 to 9999\n",
      "Data columns (total 10 columns):\n",
      " #   Column        Non-Null Count  Dtype  \n",
      "---  ------        --------------  -----  \n",
      " 0   Brand         10000 non-null  object \n",
      " 1   Model         10000 non-null  object \n",
      " 2   Year          10000 non-null  int64  \n",
      " 3   Engine_Size   10000 non-null  float64\n",
      " 4   Fuel_Type     10000 non-null  object \n",
      " 5   Transmission  10000 non-null  object \n",
      " 6   Mileage       10000 non-null  int64  \n",
      " 7   Doors         10000 non-null  int64  \n",
      " 8   Owner_Count   10000 non-null  int64  \n",
      " 9   Price         10000 non-null  int64  \n",
      "dtypes: float64(1), int64(5), object(4)\n",
      "memory usage: 781.4+ KB\n",
      "None\n",
      "-------------------------\n",
      "               Year   Engine_Size        Mileage         Doors   Owner_Count  \\\n",
      "count  10000.000000  10000.000000   10000.000000  10000.000000  10000.000000   \n",
      "mean    2011.543700      3.000560  149239.111800      3.497100      2.991100   \n",
      "std        6.897699      1.149324   86322.348957      1.110097      1.422682   \n",
      "min     2000.000000      1.000000      25.000000      2.000000      1.000000   \n",
      "25%     2006.000000      2.000000   74649.250000      3.000000      2.000000   \n",
      "50%     2012.000000      3.000000  149587.000000      3.000000      3.000000   \n",
      "75%     2017.000000      4.000000  223577.500000      4.000000      4.000000   \n",
      "max     2023.000000      5.000000  299947.000000      5.000000      5.000000   \n",
      "\n",
      "             Price  \n",
      "count  10000.00000  \n",
      "mean    8852.96440  \n",
      "std     3112.59681  \n",
      "min     2000.00000  \n",
      "25%     6646.00000  \n",
      "50%     8858.50000  \n",
      "75%    11086.50000  \n",
      "max    18301.00000  \n",
      "Brand           0\n",
      "Model           0\n",
      "Year            0\n",
      "Engine_Size     0\n",
      "Fuel_Type       0\n",
      "Transmission    0\n",
      "Mileage         0\n",
      "Doors           0\n",
      "Owner_Count     0\n",
      "Price           0\n",
      "dtype: int64\n"
     ]
    }
   ],
   "source": [
    "# Основная информация о датасете\n",
    "print(cars_data.info())\n",
    "print('-------------------------')\n",
    "print(cars_data.describe())\n",
    "# Проверка пропущенных значений\n",
    "print(cars_data.isnull().sum())"
   ]
  },
  {
   "cell_type": "code",
   "execution_count": 57,
   "id": "c2e8a29d-ce61-445e-8e15-acf6e339d83b",
   "metadata": {},
   "outputs": [],
   "source": [
    "# Инициализация LabelEncoder\n",
    "label_encoder = LabelEncoder()\n",
    "# Преобразование категориальных признаков датасета\n",
    "categorial_columns = ['Brand', 'Model', 'Fuel_Type', 'Transmission']\n",
    "for col in categorial_columns:\n",
    "    cars_data[col] = label_encoder.fit_transform(cars_data[col])"
   ]
  },
  {
   "cell_type": "code",
   "execution_count": 59,
   "id": "3c1d8762-f5a9-43fa-9317-0fe50f421251",
   "metadata": {},
   "outputs": [],
   "source": [
    "# Отделение признаков (X) и целевой переменной (y)\n",
    "X = cars_data.drop(columns=['Price'])\n",
    "y = cars_data['Price']\n",
    "\n",
    "# Разделение на обучающую и тестовую выборки\n",
    "X_train, X_test, y_train, y_test = train_test_split(X, y, test_size=0.25, random_state=42)"
   ]
  },
  {
   "cell_type": "code",
   "execution_count": 61,
   "id": "62208749-4107-4cad-9bb5-f412eefd73bd",
   "metadata": {},
   "outputs": [],
   "source": [
    "# StandardScaler\n",
    "scaler = StandardScaler()\n",
    "\n",
    "# Масштабирование числовых признаков\n",
    "numeric_cols = ['Year', 'Engine_Size', 'Mileage', 'Doors', 'Owner_Count']\n",
    "X_train[numeric_cols] = scaler.fit_transform(X_train[numeric_cols])\n",
    "X_test[numeric_cols] = scaler.transform(X_test[numeric_cols])"
   ]
  },
  {
   "cell_type": "code",
   "execution_count": 63,
   "id": "7a83b804-e598-4da6-b5ff-01f2fd1caa19",
   "metadata": {},
   "outputs": [],
   "source": [
    "# Инициализация и обучение модели\n",
    "model = RandomForestRegressor(n_estimators=100, random_state=42)\n",
    "model.fit(X_train, y_train)\n",
    "\n",
    "# Предсказание на тестовой выборке\n",
    "y_pred = model.predict(X_test)\n",
    "\n",
    "# Оценка качества модели\n",
    "rmse = np.sqrt(mean_squared_error(y_test, y_pred))\n",
    "r2 = r2_score(y_test, y_pred)"
   ]
  },
  {
   "cell_type": "code",
   "execution_count": 65,
   "id": "12962ab0-169b-4d2d-81e1-499ab0753a51",
   "metadata": {},
   "outputs": [
    {
     "name": "stdout",
     "output_type": "stream",
     "text": [
      "RMSE: 480.0574596756517\n",
      "R: 0.9754386835483809\n"
     ]
    }
   ],
   "source": [
    "print(f\"RMSE: {rmse}\")\n",
    "print(f\"R: {r2}\")"
   ]
  },
  {
   "cell_type": "code",
   "execution_count": 67,
   "id": "6d06c8e6-5fda-4532-a90b-90c493300bbf",
   "metadata": {},
   "outputs": [
    {
     "name": "stdout",
     "output_type": "stream",
     "text": [
      "Brand: 0.0041\n",
      "Model: 0.0055\n",
      "Year: 0.4397\n",
      "Engine_Size: 0.1404\n",
      "Fuel_Type: 0.0383\n",
      "Transmission: 0.0501\n",
      "Mileage: 0.3162\n",
      "Doors: 0.0026\n",
      "Owner_Count: 0.0030\n"
     ]
    }
   ],
   "source": [
    "# Важность признаков\n",
    "feature_importances = model.feature_importances_\n",
    "features = X.columns\n",
    "\n",
    "# Вывод важности признаков\n",
    "for feature, importance in zip(features, feature_importances):\n",
    "    print(f\"{feature}: {importance:.4f}\")"
   ]
  },
  {
   "cell_type": "code",
   "execution_count": null,
   "id": "f4a3a33d-2c72-4cb1-b0bc-e9a5b57fda2d",
   "metadata": {},
   "outputs": [],
   "source": []
  }
 ],
 "metadata": {
  "kernelspec": {
   "display_name": "Python 3 (ipykernel)",
   "language": "python",
   "name": "python3"
  },
  "language_info": {
   "codemirror_mode": {
    "name": "ipython",
    "version": 3
   },
   "file_extension": ".py",
   "mimetype": "text/x-python",
   "name": "python",
   "nbconvert_exporter": "python",
   "pygments_lexer": "ipython3",
   "version": "3.12.7"
  }
 },
 "nbformat": 4,
 "nbformat_minor": 5
}
